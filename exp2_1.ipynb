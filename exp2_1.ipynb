{
 "cells": [
  {
   "cell_type": "code",
   "execution_count": 1,
   "metadata": {},
   "outputs": [],
   "source": [
    "import math \n",
    "import numpy as np\n",
    "from scipy import optimize"
   ]
  },
  {
   "cell_type": "code",
   "execution_count": 2,
   "metadata": {},
   "outputs": [
    {
     "name": "stdout",
     "output_type": "stream",
     "text": [
      "Element-wise addition [ 7  9 11 13 15]\n",
      "Element-wise multiplication [ 6 14 24 36 50]\n",
      "Minimum value:  0.0\n",
      "Optimal Solution:  [-2.00000002]\n"
     ]
    }
   ],
   "source": [
    "# using the math module for basic mathematical operations\n",
    "number = 25\n",
    "square_root = math.sqrt(number)\n",
    "\n",
    "# using numpy for numerical opearions and arrays\n",
    "array1 = np.array([1,2,3,4,5])\n",
    "array2 = np.array([6,7,8,9,10])\n",
    "\n",
    "# element-wise addition of arrays\n",
    "result_addition = array1 + array2\n",
    "print(\"Element-wise addition\", result_addition)\n",
    "\n",
    "# element-wise multiplication of arrays\n",
    "result_multiplication = array1 * array2\n",
    "print(\"Element-wise multiplication\", result_multiplication)\n",
    "\n",
    "\n",
    "# Using SciPy for scientific and optimization routines\n",
    "# Example : Find the minimum of a function\n",
    "def objective_function(x): \n",
    "    return x**2 + 4*x + 4\n",
    "\n",
    "initial_guess = 0     # Initial guess for the minimum\n",
    "minimum = optimize.minimize(objective_function, initial_guess)\n",
    "print(\"Minimum value: \", minimum.fun)\n",
    "print(\"Optimal Solution: \", minimum.x)"
   ]
  }
 ],
 "metadata": {
  "kernelspec": {
   "display_name": "Python 3",
   "language": "python",
   "name": "python3"
  },
  "language_info": {
   "codemirror_mode": {
    "name": "ipython",
    "version": 3
   },
   "file_extension": ".py",
   "mimetype": "text/x-python",
   "name": "python",
   "nbconvert_exporter": "python",
   "pygments_lexer": "ipython3",
   "version": "3.11.2"
  },
  "orig_nbformat": 4
 },
 "nbformat": 4,
 "nbformat_minor": 2
}
