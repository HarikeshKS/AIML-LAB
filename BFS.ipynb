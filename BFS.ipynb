{
 "cells": [
  {
   "cell_type": "code",
   "execution_count": 7,
   "metadata": {},
   "outputs": [
    {
     "name": "stdout",
     "output_type": "stream",
     "text": [
      "Following is the Breadth-first search: [0, 2, 1, 4, 3]\n"
     ]
    }
   ],
   "source": [
    "# Create a graph given in the above diagram.\n",
    "graph = {\n",
    "    0: [2],\n",
    "    1: [2, 3],\n",
    "    2: [0, 1, 4],\n",
    "    3: [1, 4],\n",
    "    4: [2, 3]\n",
    "}\n",
    "\n",
    "# to print a BFS of a graph\n",
    "def bfs(node):\n",
    "    result = []\n",
    "\n",
    "    # mark vertices as False means not visited\n",
    "    visited = [False] * (len(graph))\n",
    "\n",
    "    # make an empty queue for bfs\n",
    "    queue = []\n",
    "\n",
    "    # mark gave node as visited and add it to the queue\n",
    "    visited.append(node)\n",
    "    queue.append(node)\n",
    "\n",
    "    while queue:\n",
    "        # Remove the front vertex or the vertex at the 0th index from the queue and print that vertex.\n",
    "        v = queue.pop(0)\n",
    "        result.append(v) # store answer\n",
    "\n",
    "        # Get all adjacent nodes of the removed node v from the graph hash table.\n",
    "        # If an adjacent node has not been visited yet,\n",
    "        # then mark it as visited and add it to the queue.\n",
    "        for neigh in graph[v]:\n",
    "            if neigh not in visited:\n",
    "                visited.append(neigh)\n",
    "                queue.append(neigh)\n",
    "    print(f\"Following is the Breadth-first search: {result}\")  # Print the answer\n",
    "\n",
    "\n",
    "# Driver Code\n",
    "if __name__ == \"__main__\":\n",
    "    bfs(0)"
   ]
  }
 ],
 "metadata": {
  "kernelspec": {
   "display_name": "Python 3",
   "language": "python",
   "name": "python3"
  },
  "language_info": {
   "codemirror_mode": {
    "name": "ipython",
    "version": 3
   },
   "file_extension": ".py",
   "mimetype": "text/x-python",
   "name": "python",
   "nbconvert_exporter": "python",
   "pygments_lexer": "ipython3",
   "version": "3.11.2"
  }
 },
 "nbformat": 4,
 "nbformat_minor": 2
}
