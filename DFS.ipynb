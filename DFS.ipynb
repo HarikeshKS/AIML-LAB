{
 "cells": [
  {
   "cell_type": "code",
   "execution_count": 4,
   "metadata": {},
   "outputs": [
    {
     "name": "stdout",
     "output_type": "stream",
     "text": [
      "Following is the Depth-first search: [0, 2, 1, 3, 4]\n"
     ]
    }
   ],
   "source": [
    "# Create a graph given in the above diagram.\n",
    "graph = {\n",
    "    0: [2],\n",
    "    1: [2, 3],\n",
    "    2: [0, 1, 4],\n",
    "    3: [1, 4],\n",
    "    4: [2, 3]\n",
    "}\n",
    "\n",
    "def dfs(node, graph, visited, result):\n",
    "    result.append(node)  # Store answer\n",
    "    visited[node] = True  # Mark visited\n",
    "\n",
    "    # Traverse to each adjacent node of a node\n",
    "    for child in graph[node]:\n",
    "        if not visited[child]:  # Check whether the node is visited or not\n",
    "            dfs(child, graph, visited, result)  # Call the dfs recursively\n",
    "\n",
    "\n",
    "if __name__ == \"__main__\":\n",
    "    node = 0  # Starting node\n",
    "    visited = [False]*len(graph)  # Make all nodes to False initially\n",
    "    result = []\n",
    "    dfs(node, graph, visited, result)  # Traverse to each node of a graph\n",
    "    print(f\"Following is the Depth-first search: {result}\")  # Print the answer\n"
   ]
  }
 ],
 "metadata": {
  "kernelspec": {
   "display_name": "Python 3",
   "language": "python",
   "name": "python3"
  },
  "language_info": {
   "codemirror_mode": {
    "name": "ipython",
    "version": 3
   },
   "file_extension": ".py",
   "mimetype": "text/x-python",
   "name": "python",
   "nbconvert_exporter": "python",
   "pygments_lexer": "ipython3",
   "version": "3.11.2"
  }
 },
 "nbformat": 4,
 "nbformat_minor": 2
}
