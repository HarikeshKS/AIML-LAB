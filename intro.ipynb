{
 "cells": [
  {
   "cell_type": "code",
   "execution_count": 3,
   "metadata": {},
   "outputs": [],
   "source": [
    "import pandas as pd"
   ]
  },
  {
   "cell_type": "code",
   "execution_count": 4,
   "metadata": {},
   "outputs": [
    {
     "name": "stdout",
     "output_type": "stream",
     "text": [
      "       Name  Age Country\n",
      "0  Harikesh   19   India\n",
      "1      Nova   25     USA\n",
      "2      Lily   23   China\n"
     ]
    }
   ],
   "source": [
    "dict1={\n",
    "    'Name':['Harikesh','Nova','Lily'],\n",
    "    'Age':[19, 25, 23],\n",
    "    'Country':['India', 'USA', 'China']\n",
    "}\n",
    "df = pd.DataFrame(dict1)\n",
    "print(df)"
   ]
  },
  {
   "cell_type": "code",
   "execution_count": 1,
   "metadata": {},
   "outputs": [
    {
     "name": "stdout",
     "output_type": "stream",
     "text": [
      "[50, 125, 150, 200, 250, 275, 300, 350, 375, 450, 500, 550, 625, 700, 800]\n"
     ]
    }
   ],
   "source": [
    "arr = [500, 250, 125, 50, 200, 150, 375, 300, 275, 350, 450, 625, 550, 800, 700]\n",
    "arr.sort()\n",
    "print(arr)"
   ]
  }
 ],
 "metadata": {
  "kernelspec": {
   "display_name": "Python 3",
   "language": "python",
   "name": "python3"
  },
  "language_info": {
   "codemirror_mode": {
    "name": "ipython",
    "version": 3
   },
   "file_extension": ".py",
   "mimetype": "text/x-python",
   "name": "python",
   "nbconvert_exporter": "python",
   "pygments_lexer": "ipython3",
   "version": "3.11.2"
  },
  "orig_nbformat": 4
 },
 "nbformat": 4,
 "nbformat_minor": 2
}
